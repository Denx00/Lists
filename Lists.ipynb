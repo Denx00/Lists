{
  "nbformat": 4,
  "nbformat_minor": 0,
  "metadata": {
    "colab": {
      "name": "Lists.ipynb",
      "provenance": [],
      "collapsed_sections": [],
      "toc_visible": true
    },
    "kernelspec": {
      "name": "python3",
      "display_name": "Python 3"
    },
    "language_info": {
      "name": "python"
    }
  },
  "cells": [
    {
      "cell_type": "code",
      "metadata": {
        "id": "w3puU_Ic5FDp",
        "colab": {
          "base_uri": "https://localhost:8080/"
        },
        "outputId": "f22c2117-1898-4fb6-ef5a-93626ed18396"
      },
      "source": [
        "name =\"cR leo\"\n",
        "surname= \"Messi\"\n",
        "print(\"Hello \" + surname.title() + \"!\")"
      ],
      "execution_count": null,
      "outputs": [
        {
          "output_type": "stream",
          "text": [
            "Hello Messi!\n"
          ],
          "name": "stdout"
        }
      ]
    },
    {
      "cell_type": "markdown",
      "metadata": {
        "id": "-XhzA51K8pbf"
      },
      "source": [
        "**use of \\n & \\t**"
      ]
    },
    {
      "cell_type": "code",
      "metadata": {
        "colab": {
          "base_uri": "https://localhost:8080/"
        },
        "id": "_Z7sNHx78QzK",
        "outputId": "1908de8d-12dd-4413-9e55-fd953d77f8bc"
      },
      "source": [
        "print(\"\\tmessi\")\n",
        "print(\"messi\\nis\\na\\nfootball player\")"
      ],
      "execution_count": null,
      "outputs": [
        {
          "output_type": "stream",
          "text": [
            "\tmessi\n",
            "messi\n",
            "is\n",
            "a\n",
            "football player\n"
          ],
          "name": "stdout"
        }
      ]
    },
    {
      "cell_type": "markdown",
      "metadata": {
        "id": "msEASpLM-ZEp"
      },
      "source": [
        "**stripping of spaces**"
      ]
    },
    {
      "cell_type": "code",
      "metadata": {
        "colab": {
          "base_uri": "https://localhost:8080/",
          "height": 35
        },
        "id": "6RsVQZMo8mjJ",
        "outputId": "ec9bbc93-14aa-4987-fc61-0763c756727f"
      },
      "source": [
        "name=\" nameless \"\n",
        "name.rstrip()\n",
        "name = name.rstrip()\n",
        "name.lstrip()\n",
        "name.strip()"
      ],
      "execution_count": null,
      "outputs": [
        {
          "output_type": "execute_result",
          "data": {
            "application/vnd.google.colaboratory.intrinsic+json": {
              "type": "string"
            },
            "text/plain": [
              "'nameless'"
            ]
          },
          "metadata": {
            "tags": []
          },
          "execution_count": 18
        }
      ]
    },
    {
      "cell_type": "code",
      "metadata": {
        "colab": {
          "base_uri": "https://localhost:8080/"
        },
        "id": "WgiEz14C-uQj",
        "outputId": "51a551c6-435c-4cf8-e77e-b0f6991aa5a9"
      },
      "source": [
        "print('use of apostrophe')\n",
        "**print(\"apostrophe's uses \")"
      ],
      "execution_count": null,
      "outputs": [
        {
          "output_type": "stream",
          "text": [
            "use of apostrophe\n",
            "apostrophe's uses \n"
          ],
          "name": "stdout"
        }
      ]
    },
    {
      "cell_type": "code",
      "metadata": {
        "colab": {
          "base_uri": "https://localhost:8080/"
        },
        "id": "vKnTUrNg_Por",
        "outputId": "bf16047d-11e2-40d8-8fb7-b1d6f5d9fe23"
      },
      "source": [
        "9**2 # ** are used for exponents(raising power)\n",
        "2+3*4 #python follows BODMAS\n",
        "print(\"5+3\")\n",
        "print(5+3)\n"
      ],
      "execution_count": null,
      "outputs": [
        {
          "output_type": "stream",
          "text": [
            "5+3\n",
            "8\n"
          ],
          "name": "stdout"
        }
      ]
    },
    {
      "cell_type": "code",
      "metadata": {
        "colab": {
          "base_uri": "https://localhost:8080/"
        },
        "id": "LQuTcTFCAuAN",
        "outputId": "19100075-09b7-4e56-dd17-b694c6b73c15"
      },
      "source": [
        "age=21\n",
        "print(\"happy \"+ str(age) + \"st birthday\")"
      ],
      "execution_count": null,
      "outputs": [
        {
          "output_type": "stream",
          "text": [
            "happy 21st birthday\n"
          ],
          "name": "stdout"
        }
      ]
    },
    {
      "cell_type": "code",
      "metadata": {
        "colab": {
          "base_uri": "https://localhost:8080/"
        },
        "id": "4P00yEqBBiOv",
        "outputId": "76ebcc76-f952-4890-c701-4cebea7ef557"
      },
      "source": [
        "import this"
      ],
      "execution_count": null,
      "outputs": [
        {
          "output_type": "stream",
          "text": [
            "The Zen of Python, by Tim Peters\n",
            "\n",
            "Beautiful is better than ugly.\n",
            "Explicit is better than implicit.\n",
            "Simple is better than complex.\n",
            "Complex is better than complicated.\n",
            "Flat is better than nested.\n",
            "Sparse is better than dense.\n",
            "Readability counts.\n",
            "Special cases aren't special enough to break the rules.\n",
            "Although practicality beats purity.\n",
            "Errors should never pass silently.\n",
            "Unless explicitly silenced.\n",
            "In the face of ambiguity, refuse the temptation to guess.\n",
            "There should be one-- and preferably only one --obvious way to do it.\n",
            "Although that way may not be obvious at first unless you're Dutch.\n",
            "Now is better than never.\n",
            "Although never is often better than *right* now.\n",
            "If the implementation is hard to explain, it's a bad idea.\n",
            "If the implementation is easy to explain, it may be a good idea.\n",
            "Namespaces are one honking great idea -- let's do more of those!\n"
          ],
          "name": "stdout"
        }
      ]
    },
    {
      "cell_type": "markdown",
      "metadata": {
        "id": "bjDyEnW_9V4q"
      },
      "source": [
        "**LISTS**"
      ]
    },
    {
      "cell_type": "code",
      "metadata": {
        "colab": {
          "base_uri": "https://localhost:8080/"
        },
        "id": "PLMI1wUG7aYQ",
        "outputId": "2ffea256-80dc-4806-861a-7edf2d8d2a4a"
      },
      "source": [
        "colors=['red','blue','yellow']\n",
        "print(colors)\n",
        "print(colors[1].title())\n",
        "print(colors[-1])\n",
        "print(\"my favorite color is \" + colors[0].title())"
      ],
      "execution_count": 56,
      "outputs": [
        {
          "output_type": "stream",
          "text": [
            "['red', 'blue', 'yellow']\n",
            "Blue\n",
            "yellow\n",
            "my favorite color is Red\n"
          ],
          "name": "stdout"
        }
      ]
    },
    {
      "cell_type": "code",
      "metadata": {
        "colab": {
          "base_uri": "https://localhost:8080/"
        },
        "id": "tdIwMnVb7eDw",
        "outputId": "7ee72f33-1268-4ac0-8aed-af908b93026d"
      },
      "source": [
        "colors[2]='black'\n",
        "\n",
        "colors.append('green')\n",
        "print(colors)"
      ],
      "execution_count": 57,
      "outputs": [
        {
          "output_type": "stream",
          "text": [
            "['red', 'blue', 'black', 'green']\n"
          ],
          "name": "stdout"
        }
      ]
    },
    {
      "cell_type": "code",
      "metadata": {
        "colab": {
          "base_uri": "https://localhost:8080/"
        },
        "id": "cZznxL0B_PaC",
        "outputId": "9bf2e3f1-d7c7-4d4b-8b5f-9b8c041dd944"
      },
      "source": [
        "alphabets=[]\n",
        "alphabets.append('a')\n",
        "alphabets.append('b')\n",
        "alphabets.append('c')\n",
        "print(alphabets)\n",
        "alphabets.insert(1,'d')\n",
        "print(alphabets)\n",
        "del alphabets[1]\n",
        "print(alphabets)\n",
        "alphabets.extend(['d','e'])\n",
        "print(alphabets)"
      ],
      "execution_count": 101,
      "outputs": [
        {
          "output_type": "stream",
          "text": [
            "['a', 'b', 'c']\n",
            "['a', 'd', 'b', 'c']\n",
            "['a', 'b', 'c']\n",
            "['a', 'b', 'c', 'd', 'e']\n"
          ],
          "name": "stdout"
        }
      ]
    },
    {
      "cell_type": "code",
      "metadata": {
        "colab": {
          "base_uri": "https://localhost:8080/"
        },
        "id": "bCeR1kWeBaxS",
        "outputId": "899859f1-dafb-4955-ed39-ac123f9efa44"
      },
      "source": [
        "ex_color=colors.pop()\n",
        "print(ex_color)\n",
        "\n",
        "print(colors)\n",
        "print(\"the color I removed is \"+ ex_color)"
      ],
      "execution_count": 58,
      "outputs": [
        {
          "output_type": "stream",
          "text": [
            "green\n",
            "['red', 'blue', 'black']\n",
            "the color I removed is green\n"
          ],
          "name": "stdout"
        }
      ]
    },
    {
      "cell_type": "code",
      "metadata": {
        "colab": {
          "base_uri": "https://localhost:8080/"
        },
        "id": "2q1RTprcE2JX",
        "outputId": "324313c2-db85-4795-bc71-be0bca5f34dc"
      },
      "source": [
        "elements=['fire','water','air','earth','light','darkness']\n",
        "print(\"my elemental affinity is \"+ elements.pop(-1))\n",
        "print(elements)\n",
        "holy_element='light'\n",
        "elements.remove(holy_element)\n",
        "print(\"the \"+ holy_element + \" element is exclusive to the Hero.\")\n",
        "\n",
        "print(elements)"
      ],
      "execution_count": 70,
      "outputs": [
        {
          "output_type": "stream",
          "text": [
            "my elemental affinity is darkness\n",
            "['fire', 'water', 'air', 'earth', 'light']\n",
            "the light element is exclusive to the Hero.\n",
            "['fire', 'water', 'air', 'earth']\n"
          ],
          "name": "stdout"
        }
      ]
    },
    {
      "cell_type": "code",
      "metadata": {
        "colab": {
          "base_uri": "https://localhost:8080/"
        },
        "id": "HL1BnA90FX23",
        "outputId": "a8622fc4-974c-4382-b417-c257de8d47db"
      },
      "source": [
        "guests=['king','prince','archbishop','knight captain ','hero']\n",
        "for i in range(len(guests)):\n",
        "\n",
        "  print(guests[i].title() + \",I would like to invite you for the banquet after defeating the demon king.\\n\")\n",
        "\n",
        "\n",
        "for i in guests:\n",
        "  print(i)"
      ],
      "execution_count": 126,
      "outputs": [
        {
          "output_type": "stream",
          "text": [
            "King,I would like to invite you for the banquet after defeating the demon king.\n",
            "\n",
            "Prince,I would like to invite you for the banquet after defeating the demon king.\n",
            "\n",
            "Archbishop,I would like to invite you for the banquet after defeating the demon king.\n",
            "\n",
            "Knight Captain ,I would like to invite you for the banquet after defeating the demon king.\n",
            "\n",
            "Hero,I would like to invite you for the banquet after defeating the demon king.\n",
            "\n",
            "king\n",
            "prince\n",
            "archbishop\n",
            "knight captain \n",
            "hero\n"
          ],
          "name": "stdout"
        }
      ]
    },
    {
      "cell_type": "code",
      "metadata": {
        "colab": {
          "base_uri": "https://localhost:8080/"
        },
        "id": "kTsD6FZMLSf1",
        "outputId": "59b1c4a5-c8a0-424a-a92f-0b1011e062a0"
      },
      "source": [
        "unavailable=guests.pop(3)\n",
        "guests.insert(3,'guildmaster')\n",
        "print(\"Unfortunately, The \" + unavailable + \" will not be able to attend the banquet.\")\n",
        "for i in range(len(guests)):\n",
        "  print(guests[i].title() + \",I would like to invite you to a banquet.\\n \")"
      ],
      "execution_count": 127,
      "outputs": [
        {
          "output_type": "stream",
          "text": [
            "Unfortunately, The knight captain  will not be able to attend the banquet.\n",
            "King,I would like to invite you to a banquet.\n",
            " \n",
            "Prince,I would like to invite you to a banquet.\n",
            " \n",
            "Archbishop,I would like to invite you to a banquet.\n",
            " \n",
            "Guildmaster,I would like to invite you to a banquet.\n",
            " \n",
            "Hero,I would like to invite you to a banquet.\n",
            " \n"
          ],
          "name": "stdout"
        }
      ]
    },
    {
      "cell_type": "code",
      "metadata": {
        "colab": {
          "base_uri": "https://localhost:8080/"
        },
        "id": "jfCeVSiJMndS",
        "outputId": "26e50422-871f-4afb-e798-e01d6fc9b121"
      },
      "source": [
        "guests.insert(0,'Saintess')\n",
        "guests.insert(4,'Duke')\n",
        "guests.append('Empress')\n",
        "\n",
        "for i in range(len(guests)):\n",
        "  print(guests[i].title() + \",I would like to invite you to a banquet.\\n \")"
      ],
      "execution_count": 128,
      "outputs": [
        {
          "output_type": "stream",
          "text": [
            "Saintess,I would like to invite you to a banquet.\n",
            " \n",
            "King,I would like to invite you to a banquet.\n",
            " \n",
            "Prince,I would like to invite you to a banquet.\n",
            " \n",
            "Archbishop,I would like to invite you to a banquet.\n",
            " \n",
            "Duke,I would like to invite you to a banquet.\n",
            " \n",
            "Guildmaster,I would like to invite you to a banquet.\n",
            " \n",
            "Hero,I would like to invite you to a banquet.\n",
            " \n",
            "Empress,I would like to invite you to a banquet.\n",
            " \n"
          ],
          "name": "stdout"
        }
      ]
    },
    {
      "cell_type": "code",
      "metadata": {
        "colab": {
          "base_uri": "https://localhost:8080/"
        },
        "id": "bhiUtbmSR5Zk",
        "outputId": "c573f1e7-6c86-4c3e-c2b7-91d232fb7f41"
      },
      "source": [
        "print(\"Monsters are attacking, there's no time for banquet: Go fight for the country\")\n",
        "for i in range(len(guests)-2):\n",
        "  print(\"TATAKAE!!! \"+ guests.pop())\n"
      ],
      "execution_count": 129,
      "outputs": [
        {
          "output_type": "stream",
          "text": [
            "Monsters are attacking, there's no time for banquet: Go fight for the country\n",
            "TATAKAE!!! Empress\n",
            "TATAKAE!!! hero\n",
            "TATAKAE!!! guildmaster\n",
            "TATAKAE!!! Duke\n",
            "TATAKAE!!! archbishop\n",
            "TATAKAE!!! prince\n"
          ],
          "name": "stdout"
        }
      ]
    },
    {
      "cell_type": "code",
      "metadata": {
        "colab": {
          "base_uri": "https://localhost:8080/"
        },
        "id": "iY0h4AmeTbkN",
        "outputId": "5c67fe45-b561-4cc8-d31b-e7c1c544d30f"
      },
      "source": [
        "for i in range(len(guests)):\n",
        "  print(guests[i].title() + \",Enjoy the feast.\")\n",
        "  \n",
        "del guests[0]\n",
        "\n",
        "print(guests)"
      ],
      "execution_count": 130,
      "outputs": [
        {
          "output_type": "stream",
          "text": [
            "Saintess,Enjoy the feast.\n",
            "King,Enjoy the feast.\n",
            "['king']\n"
          ],
          "name": "stdout"
        }
      ]
    },
    {
      "cell_type": "code",
      "metadata": {
        "colab": {
          "base_uri": "https://localhost:8080/"
        },
        "id": "FILRFFdKUcIi",
        "outputId": "079c6268-d1bb-4932-8924-ec494aa3dbd3"
      },
      "source": [
        "ranks=['F','D','A','B','C','E']\n",
        "ranks.reverse()\n",
        "print(ranks)\n",
        "\n",
        "ranks.sort()\n",
        "print(ranks)\n",
        "ranks.sort(reverse=True) # reversing the order\n",
        "print(ranks)\n",
        "\n",
        "print(sorted(ranks))   #temporary sort \n",
        "\n",
        "print(ranks)\n",
        "print(len(ranks))"
      ],
      "execution_count": 144,
      "outputs": [
        {
          "output_type": "stream",
          "text": [
            "['E', 'C', 'B', 'A', 'D', 'F']\n",
            "['A', 'B', 'C', 'D', 'E', 'F']\n",
            "['F', 'E', 'D', 'C', 'B', 'A']\n",
            "['A', 'B', 'C', 'D', 'E', 'F']\n",
            "['F', 'E', 'D', 'C', 'B', 'A']\n",
            "6\n"
          ],
          "name": "stdout"
        }
      ]
    },
    {
      "cell_type": "code",
      "metadata": {
        "colab": {
          "base_uri": "https://localhost:8080/"
        },
        "id": "HNf8JEnlhmDS",
        "outputId": "e043c1b6-95ed-4eb6-e2f0-67d165c36783"
      },
      "source": [
        "print(sorted(ranks,reverse=True))\n",
        "print(ranks )"
      ],
      "execution_count": 150,
      "outputs": [
        {
          "output_type": "stream",
          "text": [
            "['F', 'E', 'D', 'C', 'B', 'A']\n",
            "['F', 'E', 'D', 'C', 'B', 'A']\n"
          ],
          "name": "stdout"
        }
      ]
    },
    {
      "cell_type": "code",
      "metadata": {
        "colab": {
          "base_uri": "https://localhost:8080/"
        },
        "id": "64iZFRWejc0E",
        "outputId": "9aa0ed38-00d4-4667-c912-577df6b96b47"
      },
      "source": [
        "weapons=['sword','spear','short sword','bow','knuckles']\n",
        "for weapon in weapons:\n",
        "  print(weapon)"
      ],
      "execution_count": 1,
      "outputs": [
        {
          "output_type": "stream",
          "text": [
            "sword\n",
            "spear\n",
            "short sword\n",
            "bow\n",
            "knuckles\n"
          ],
          "name": "stdout"
        }
      ]
    },
    {
      "cell_type": "code",
      "metadata": {
        "colab": {
          "base_uri": "https://localhost:8080/"
        },
        "id": "cyycDhleIlnr",
        "outputId": "c338dedb-75d0-427a-c93d-f022897b4c90"
      },
      "source": [
        "food=['dumplings','soup','pork','beef']\n",
        "for item in food:\n",
        "  print(item)\n",
        "\n",
        "for i in food:\n",
        "  print(\"I like \"+ i +\"!\\n\")"
      ],
      "execution_count": 3,
      "outputs": [
        {
          "output_type": "stream",
          "text": [
            "dumplings\n",
            "soup\n",
            "pork\n",
            "beef\n",
            "I like dumplings!\n",
            "\n",
            "I like soup!\n",
            "\n",
            "I like pork!\n",
            "\n",
            "I like beef!\n",
            "\n"
          ],
          "name": "stdout"
        }
      ]
    },
    {
      "cell_type": "code",
      "metadata": {
        "colab": {
          "base_uri": "https://localhost:8080/"
        },
        "id": "ySvgnPXp20PL",
        "outputId": "fe88f017-b352-4571-ef39-9c47da8aee4a"
      },
      "source": [
        "numb=list(range(1,7))\n",
        "print(numb)\n",
        "\n",
        "even1=list(range(2,15,2))\n",
        "print(even1)\n",
        "min(even1)"
      ],
      "execution_count": 6,
      "outputs": [
        {
          "output_type": "stream",
          "text": [
            "[1, 2, 3, 4, 5, 6]\n",
            "[2, 4, 6, 8, 10, 12, 14]\n"
          ],
          "name": "stdout"
        }
      ]
    },
    {
      "cell_type": "code",
      "metadata": {
        "colab": {
          "base_uri": "https://localhost:8080/"
        },
        "id": "RAByMiEZasWO",
        "outputId": "9824e113-bf5e-4b09-9f64-0b87d5f284f3"
      },
      "source": [
        "cube1=[]\n",
        "for cube in range(1,11):\n",
        "  cube1.append(cube**3)\n",
        "print(cube1)"
      ],
      "execution_count": 2,
      "outputs": [
        {
          "output_type": "stream",
          "text": [
            "[1, 8, 27, 64, 125, 216, 343, 512, 729, 1000]\n"
          ],
          "name": "stdout"
        }
      ]
    },
    {
      "cell_type": "code",
      "metadata": {
        "colab": {
          "base_uri": "https://localhost:8080/"
        },
        "id": "HMSETRmiblHH",
        "outputId": "74cafc67-c2b8-4fc1-c460-aba6a38a376e"
      },
      "source": [
        "weapons=['sword','knuckles','spear','short sword','bow']\n",
        "print(weapons[0:3])\n",
        "print(weapons[2:])\n",
        "print(weapons[:5])\n",
        "\n",
        "for weapon in weapons[2:]:\n",
        "  print(\"I can use \"+ weapon.title())\n",
        "\n",
        "melee=weapons[:4]\n",
        "print(melee)"
      ],
      "execution_count": 10,
      "outputs": [
        {
          "output_type": "stream",
          "text": [
            "['sword', 'knuckles', 'spear']\n",
            "['spear', 'short sword', 'bow']\n",
            "['sword', 'knuckles', 'spear', 'short sword', 'bow']\n",
            "I can use Spear\n",
            "I can use Short Sword\n",
            "I can use Bow\n",
            "['sword', 'knuckles', 'spear', 'short sword']\n"
          ],
          "name": "stdout"
        }
      ]
    },
    {
      "cell_type": "markdown",
      "metadata": {
        "id": "51FfRyqFQLiN"
      },
      "source": [
        "**Tuples**"
      ]
    },
    {
      "cell_type": "code",
      "metadata": {
        "colab": {
          "base_uri": "https://localhost:8080/"
        },
        "id": "DOcvbZnq9RPu",
        "outputId": "db8749f3-54b3-41c6-ed65-93fbec683840"
      },
      "source": [
        "combat=(100,120,130)\n",
        "print(combat[2])"
      ],
      "execution_count": 2,
      "outputs": [
        {
          "output_type": "stream",
          "text": [
            "130\n"
          ],
          "name": "stdout"
        }
      ]
    }
  ]
}